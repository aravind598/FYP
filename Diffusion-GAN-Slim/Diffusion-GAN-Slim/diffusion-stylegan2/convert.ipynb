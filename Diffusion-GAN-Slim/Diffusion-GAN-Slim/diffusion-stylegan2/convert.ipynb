{
 "cells": [
  {
   "cell_type": "code",
   "execution_count": 2,
   "metadata": {},
   "outputs": [],
   "source": [
    "\n",
    "import os\n",
    "import re\n",
    "from typing import List, Optional\n",
    "\n",
    "import click\n",
    "import dnnlib\n",
    "import numpy as np\n",
    "import PIL.Image\n",
    "import torch\n",
    "\n",
    "import legacy\n",
    "import pickle"
   ]
  },
  {
   "cell_type": "code",
   "execution_count": 15,
   "metadata": {},
   "outputs": [
    {
     "name": "stdout",
     "output_type": "stream",
     "text": [
      "Loading networks from \"C:\\Users\\Aravind\\Desktop\\FYP DEMO\\Diffusion-GAN-Slim-003\\Diffusion-GAN-Slim\\diffusion-stylegan2\\training-runs\\00012-512-anime-16K-mirror-autov3-batch32-target0.6-ada_kimg100-ts_dist-priority-image_augdiff-noise_sd0.05-resumecustom\\best_model.pkl\"...\n",
      "training_set_kwargs\n",
      "{'class_name': 'training.dataset.ImageFolderDataset', 'path': '/workspace/Diffusion-GAN/512-anime-16K.zip', 'use_labels': False, 'max_size': 10036, 'xflip': True, 'resolution': 512} 1\n",
      "G\n",
      "D\n",
      "G_ema\n",
      "diffusion\n",
      "progress\n",
      "{'cur_nimg': tensor([9608008]), 'cur_tick': tensor([2400]), 'cur_p': tensor([1.]), 'batch_idx': tensor([319001]), 'best_fid': 7.92562533877777, 'pl_mean': tensor(0.)} 1\n",
      "augment_pipe\n",
      "None 1\n"
     ]
    }
   ],
   "source": [
    "network_pkl=r\"C:\\Users\\Aravind\\Desktop\\FYP DEMO\\Diffusion-GAN-Slim-003\\Diffusion-GAN-Slim\\diffusion-stylegan2\\training-runs\\00012-512-anime-16K-mirror-autov3-batch32-target0.6-ada_kimg100-ts_dist-priority-image_augdiff-noise_sd0.05-resumecustom\\best_model.pkl\"\n",
    "print('Loading networks from \"%s\"...' % network_pkl)\n",
    "device = torch.device('cuda')\n",
    "with dnnlib.util.open_url(network_pkl) as f:\n",
    "    dicts = legacy.load_network_pkl(f) # type: ignore\n",
    "    newdict = dict()\n",
    "    for key,val in dicts.items():\n",
    "        print(key)\n",
    "        try: newdict[key] = val.float().to(\"cpu\")\n",
    "        except: newdict[key] = val; print(val,\"1\")\n",
    "    with open('G_f32.pkl', 'wb') as fp:\n",
    "        pickle.dump(newdict, fp, pickle.HIGHEST_PROTOCOL)"
   ]
  },
  {
   "cell_type": "code",
   "execution_count": 9,
   "metadata": {},
   "outputs": [],
   "source": [
    "#Take out diffusion\n",
    "n_pkl = r\"C:\\Users\\Aravind\\Desktop\\FYP DEMO\\Diffusion-GAN-Slim-003\\Diffusion-GAN-Slim\\diffusion-stylegan2\\training-runs\\00016-512-anime-16K-mirror-autov3-batch8-target0.6-ada_kimg100-ts_dist-priority-image_augdiff-noise_sd0.05-resumecustom\\best_model.pkl\"\n",
    "with dnnlib.util.open_url(n_pkl) as f:\n",
    "    dicts = legacy.load_network_pkl(f) # type: ignore\n",
    "    dicts.pop('diffusion')\n",
    "\n",
    "    with open('G_f32_nodiff.pkl', 'wb') as fp:\n",
    "        pickle.dump(dicts, fp, pickle.HIGHEST_PROTOCOL)"
   ]
  },
  {
   "cell_type": "code",
   "execution_count": 10,
   "metadata": {},
   "outputs": [],
   "source": [
    "nl_pkl = 'G_f32_nodiff.pkl'\n",
    "with dnnlib.util.open_url(nl_pkl) as f:\n",
    "    dicts = legacy.load_network_pkl(f) # type: ignore\n"
   ]
  },
  {
   "cell_type": "code",
   "execution_count": 11,
   "metadata": {},
   "outputs": [
    {
     "data": {
      "text/plain": [
       "dict_keys(['training_set_kwargs', 'G', 'D', 'G_ema', 'progress', 'augment_pipe'])"
      ]
     },
     "execution_count": 11,
     "metadata": {},
     "output_type": "execute_result"
    }
   ],
   "source": [
    "dicts.keys()"
   ]
  },
  {
   "cell_type": "code",
   "execution_count": 5,
   "metadata": {},
   "outputs": [],
   "source": [
    "dicts[\"progress\"]['cur_nimg']= torch.zeros(1,dtype=torch.long)\n",
    "dicts[\"progress\"]['cur_tick']= torch.zeros(1,dtype=torch.long)\n",
    "dicts[\"progress\"]['cur_p']= torch.zeros(1)\n",
    "dicts[\"progress\"]['batch_idx']= torch.zeros(1,dtype=torch.long)\n",
    "dicts[\"progress\"]['best_fid']= 100.000000000"
   ]
  },
  {
   "cell_type": "code",
   "execution_count": 6,
   "metadata": {},
   "outputs": [],
   "source": [
    "newdicts = {}\n",
    "for key,val in dicts.items():\n",
    "    try:\n",
    "        newdicts[key] = val.float().cpu()\n",
    "    except:\n",
    "        newdicts[key] = val\n",
    "\n",
    "with open('G_f32.pkl', 'wb') as fp:\n",
    "    pickle.dump(newdicts, fp, pickle.HIGHEST_PROTOCOL)"
   ]
  },
  {
   "cell_type": "code",
   "execution_count": 27,
   "metadata": {},
   "outputs": [
    {
     "data": {
      "text/plain": [
       "{'cur_nimg': tensor([0]),\n",
       " 'cur_tick': tensor([0]),\n",
       " 'cur_p': tensor([0.]),\n",
       " 'batch_idx': tensor([0]),\n",
       " 'best_fid': 100.0,\n",
       " 'pl_mean': tensor(0.)}"
      ]
     },
     "execution_count": 27,
     "metadata": {},
     "output_type": "execute_result"
    }
   ],
   "source": [
    "dicts[\"progress\"]"
   ]
  },
  {
   "cell_type": "code",
   "execution_count": 23,
   "metadata": {},
   "outputs": [
    {
     "data": {
      "text/plain": [
       "{'cur_nimg': tensor([9608008]),\n",
       " 'cur_tick': tensor([2400]),\n",
       " 'cur_p': tensor([1.]),\n",
       " 'batch_idx': tensor([319001]),\n",
       " 'best_fid': 7.92562533877777,\n",
       " 'pl_mean': tensor(0.)}"
      ]
     },
     "execution_count": 23,
     "metadata": {},
     "output_type": "execute_result"
    }
   ],
   "source": [
    "dicts[\"progress\"]"
   ]
  },
  {
   "cell_type": "code",
   "execution_count": 51,
   "metadata": {},
   "outputs": [],
   "source": [
    "G = dicts[\"D\"]"
   ]
  },
  {
   "cell_type": "code",
   "execution_count": 52,
   "metadata": {},
   "outputs": [
    {
     "name": "stdout",
     "output_type": "stream",
     "text": [
      "torch.FloatTensor\n",
      "torch.FloatTensor\n",
      "torch.FloatTensor\n",
      "torch.FloatTensor\n",
      "torch.FloatTensor\n",
      "torch.FloatTensor\n",
      "torch.FloatTensor\n",
      "torch.FloatTensor\n",
      "torch.FloatTensor\n",
      "torch.FloatTensor\n",
      "torch.FloatTensor\n",
      "torch.FloatTensor\n",
      "torch.FloatTensor\n",
      "torch.FloatTensor\n",
      "torch.FloatTensor\n",
      "torch.FloatTensor\n",
      "torch.FloatTensor\n",
      "torch.FloatTensor\n",
      "torch.FloatTensor\n",
      "torch.FloatTensor\n",
      "torch.FloatTensor\n",
      "torch.FloatTensor\n",
      "torch.FloatTensor\n",
      "torch.FloatTensor\n",
      "torch.FloatTensor\n",
      "torch.FloatTensor\n",
      "torch.FloatTensor\n",
      "torch.FloatTensor\n",
      "torch.FloatTensor\n",
      "torch.FloatTensor\n",
      "torch.FloatTensor\n",
      "torch.FloatTensor\n",
      "torch.FloatTensor\n",
      "torch.FloatTensor\n",
      "torch.FloatTensor\n",
      "torch.FloatTensor\n",
      "torch.FloatTensor\n",
      "torch.FloatTensor\n",
      "torch.FloatTensor\n",
      "torch.FloatTensor\n",
      "torch.FloatTensor\n",
      "torch.FloatTensor\n",
      "torch.FloatTensor\n",
      "torch.FloatTensor\n",
      "torch.FloatTensor\n",
      "torch.FloatTensor\n",
      "torch.FloatTensor\n",
      "torch.FloatTensor\n",
      "torch.FloatTensor\n",
      "torch.FloatTensor\n",
      "torch.FloatTensor\n",
      "torch.FloatTensor\n",
      "torch.FloatTensor\n",
      "torch.FloatTensor\n",
      "torch.FloatTensor\n",
      "torch.FloatTensor\n",
      "torch.FloatTensor\n",
      "torch.FloatTensor\n",
      "torch.FloatTensor\n",
      "torch.FloatTensor\n",
      "torch.FloatTensor\n",
      "torch.FloatTensor\n",
      "torch.FloatTensor\n",
      "torch.FloatTensor\n",
      "torch.FloatTensor\n",
      "torch.FloatTensor\n",
      "torch.FloatTensor\n",
      "torch.FloatTensor\n",
      "torch.FloatTensor\n",
      "torch.FloatTensor\n",
      "torch.FloatTensor\n",
      "torch.FloatTensor\n",
      "torch.FloatTensor\n",
      "torch.FloatTensor\n",
      "torch.FloatTensor\n",
      "torch.FloatTensor\n",
      "torch.FloatTensor\n",
      "torch.FloatTensor\n",
      "torch.FloatTensor\n",
      "torch.FloatTensor\n",
      "torch.FloatTensor\n",
      "torch.FloatTensor\n",
      "torch.FloatTensor\n",
      "torch.FloatTensor\n",
      "torch.FloatTensor\n",
      "torch.FloatTensor\n",
      "torch.FloatTensor\n",
      "torch.FloatTensor\n",
      "torch.FloatTensor\n",
      "torch.FloatTensor\n",
      "torch.FloatTensor\n"
     ]
    }
   ],
   "source": [
    "for item,val in G.state_dict().items():\n",
    "    print(val.type())"
   ]
  },
  {
   "cell_type": "code",
   "execution_count": null,
   "metadata": {},
   "outputs": [],
   "source": [
    "!"
   ]
  }
 ],
 "metadata": {
  "kernelspec": {
   "display_name": "Python 3.7.13 ('lit')",
   "language": "python",
   "name": "python3"
  },
  "language_info": {
   "codemirror_mode": {
    "name": "ipython",
    "version": 3
   },
   "file_extension": ".py",
   "mimetype": "text/x-python",
   "name": "python",
   "nbconvert_exporter": "python",
   "pygments_lexer": "ipython3",
   "version": "3.7.13"
  },
  "orig_nbformat": 4,
  "vscode": {
   "interpreter": {
    "hash": "7d4b03130a228fb55e9f59b7e64183fe79875bc95bac249971a20f8068d4c409"
   }
  }
 },
 "nbformat": 4,
 "nbformat_minor": 2
}
